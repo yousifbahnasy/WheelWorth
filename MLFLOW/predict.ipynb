{
 "cells": [
  {
   "cell_type": "code",
   "execution_count": 3,
   "metadata": {},
   "outputs": [],
   "source": [
    "data = [\n",
    "      [3, 84, 2017, 2, -0.269917351364784, -0.9159772819170414, 3, 0, -1.6299675173478536, 2, 8, 0.6050704377378582, 0.3634796924835182, 3105, 7],\n",
    "      [1, 50, 2015, 1, 0.5543456721295187, -0.1223457125374189, 2, 1, -0.3247981765237643, 1, 7, 0.4584792853722914, 0.2893649876349128, 4872, 9],\n",
    "      [2, 102, 2019, 3, 0.8796456781947354, 1.245789614237891, 0, 1, 0.2489172356235411, 2, 6, 0.3297987652368492, 0.4124983658295412, 2789, 5],\n",
    "      [4, 75, 2016, 0, 1.0759784395178492, 0.5234891784512945, 1, 0, -0.8372541789217482, 1, 9, 0.5491234981273625, 0.3859765282736549, 3201, 8]\n",
    "    ]\n"
   ]
  },
  {
   "cell_type": "code",
   "execution_count": null,
   "metadata": {},
   "outputs": [],
   "source": [
    "import mlflow\n",
    "logged_model = 'runs:/8b1fd11af10d4729a4a14c7b49da0715/RandomForestClassifier/balanced_data'\n",
    "\n",
    "# Load model as a PyFuncModel.\n",
    "loaded_model = mlflow.pyfunc.load_model(logged_model)\n",
    "\n",
    "# Predict on a Pandas DataFrame.\n",
    "import pandas as pd\n",
    "loaded_model.predict(pd.DataFrame(data))"
   ]
  },
  {
   "cell_type": "code",
   "execution_count": null,
   "metadata": {},
   "outputs": [],
   "source": [
    "import mlflow\n",
    "logged_model = 'models:/BestModel/Production'\n",
    "\n",
    "# Load model as a PyFuncModel.\n",
    "loaded_model = mlflow.pyfunc.load_model(logged_model)\n",
    "\n",
    "# Predict on a Pandas DataFrame.\n",
    "import pandas as pd\n",
    "loaded_model.predict(pd.DataFrame(data))"
   ]
  }
 ],
 "metadata": {
  "kernelspec": {
   "display_name": "Python 3",
   "language": "python",
   "name": "python3"
  },
  "language_info": {
   "codemirror_mode": {
    "name": "ipython",
    "version": 3
   },
   "file_extension": ".py",
   "mimetype": "text/x-python",
   "name": "python",
   "nbconvert_exporter": "python",
   "pygments_lexer": "ipython3",
   "version": "3.11.9"
  }
 },
 "nbformat": 4,
 "nbformat_minor": 2
}
