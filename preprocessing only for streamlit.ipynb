{
 "cells": [
  {
   "cell_type": "code",
   "execution_count": 14,
   "id": "fa21b249-aab2-43b2-afcd-76f152b5ad2e",
   "metadata": {},
   "outputs": [],
   "source": [
    "import pandas as pd           \n",
    "import numpy as np\n",
    "import seaborn as sns                       \n",
    "import matplotlib.pyplot as plt             \n",
    "import plotly.express as px                 \n",
    "import plotly.graph_objects as go\n",
    "import missingno as msno                          \n",
    "from sklearn.decomposition import PCA\n",
    "from sklearn.preprocessing import StandardScaler  \n",
    "from sklearn.model_selection import train_test_split \n",
    "import joblib\n",
    "\n",
    "\n",
    "from sklearn.metrics import mean_squared_error, mean_absolute_error, r2_score\n",
    "\n",
    "%matplotlib inline\n",
    "sns.set(color_codes=True)"
   ]
  },
  {
   "cell_type": "code",
   "execution_count": 15,
   "id": "a93cdaf5-5b28-41e6-b14a-09199a0d9c7a",
   "metadata": {},
   "outputs": [],
   "source": [
    "df=pd.read_csv('data.csv')"
   ]
  },
  {
   "cell_type": "code",
   "execution_count": 16,
   "id": "ad03f260-b205-4986-a801-c39f15d8c0c0",
   "metadata": {},
   "outputs": [],
   "source": [
    "import pandas as pd\n",
    "import joblib\n",
    "\n",
    "def preprocess_data(df):\n",
    "    df = df.rename(columns={\n",
    "        \"Engine HP\": \"HP\",\n",
    "        \"Engine Cylinders\": \"Cylinders\",\n",
    "        \"Transmission Type\": \"Transmission\",\n",
    "        \"Driven_Wheels\": \"Drive Mode\",\n",
    "        \"highway MPG\": \"MPG-H\",\n",
    "        \"city mpg\": \"MPG-C\",\n",
    "        \"MSRP\": \"Price\"\n",
    "    })\n",
    "    \n",
    "    df['Cylinders'] = df['Cylinders'].fillna(value=df['Cylinders'].mode()[0])\n",
    "    df['Engine Fuel Type'] = df['Engine Fuel Type'].fillna(df['Engine Fuel Type'].mode()[0])\n",
    "    df['HP'] = df['HP'].fillna(df['HP'].mean())\n",
    "    df['Number of Doors'] = df['Number of Doors'].fillna(df['Number of Doors'].mode()[0])\n",
    "    \n",
    "\n",
    "    df = df.drop([\"Market Category\"], axis=1)\n",
    "   \n",
    "    unique_flex_fuel_types = ['flex-fuel (unleaded/E85)', 'flex-fuel (premium unleaded recommended/E85)',\n",
    "                              'flex-fuel (premium unleaded required/E85)', 'flex-fuel (unleaded/natural gas)']\n",
    "    df['Engine Fuel Type'] = df['Engine Fuel Type'].replace(unique_flex_fuel_types, 'Flex fuel')\n",
    "    \n",
    "    unique_premium_fuel_types = ['premium unleaded (recommended)', 'premium unleaded (required)']\n",
    "    df['Engine Fuel Type'] = df['Engine Fuel Type'].replace(unique_premium_fuel_types, 'Premium')\n",
    "    df['Engine Fuel Type'] = df['Engine Fuel Type'].replace('regular unleaded', 'Regular')\n",
    "\n",
    "    df['Transmission'] = df['Transmission'].replace('UNKNOWN', 'AUTOMATIC')\n",
    "    df['Drive Mode'] = df['Drive Mode'].replace('four wheel drive', 'all wheel drive')\n",
    "    \n",
    "    df['Vehicle Style'] = df['Vehicle Style'].replace(['2dr Hatchback', '4dr Hatchback'], 'Hatchback')\n",
    "    df['Vehicle Style'] = df['Vehicle Style'].replace(['Crew Cab Pickup', 'Regular Cab Pickup', 'Extended Cab Pickup'], 'Pickup')\n",
    "    df['Vehicle Style'] = df['Vehicle Style'].replace(['4dr SUV', '2dr SUV', 'Convertible SUV'], 'SUV')\n",
    "    df['Vehicle Style'] = df['Vehicle Style'].replace(['Cargo Van', 'Passenger Van'], 'Van')\n",
    "    df['Vehicle Style'] = df['Vehicle Style'].replace(['Passenger Minivan', 'Cargo Minivan'], 'Minivan')\n",
    "    \n",
    " \n",
    "    df.loc[df['Transmission'] == 'DIRECT_DRIVE', 'Engine Fuel Type'] = 'Electric'\n",
    "    df.loc[df['Transmission'] == 'DIRECT_DRIVE', 'Cylinders'] = 0\n",
    "    \n",
    "    current_year = 2024\n",
    "    df['Age_of_Car'] = current_year - df['Year']\n",
    "    \n",
    "    return df\n"
   ]
  },
  {
   "cell_type": "code",
   "execution_count": 17,
   "id": "fabad48f-20c1-4180-8b1b-b4d2a40161dc",
   "metadata": {},
   "outputs": [
    {
     "name": "stdout",
     "output_type": "stream",
     "text": [
      "<class 'pandas.core.frame.DataFrame'>\n",
      "RangeIndex: 11914 entries, 0 to 11913\n",
      "Data columns (total 16 columns):\n",
      " #   Column            Non-Null Count  Dtype  \n",
      "---  ------            --------------  -----  \n",
      " 0   Make              11914 non-null  object \n",
      " 1   Model             11914 non-null  object \n",
      " 2   Year              11914 non-null  int64  \n",
      " 3   Engine Fuel Type  11914 non-null  object \n",
      " 4   HP                11914 non-null  float64\n",
      " 5   Cylinders         11914 non-null  float64\n",
      " 6   Transmission      11914 non-null  object \n",
      " 7   Drive Mode        11914 non-null  object \n",
      " 8   Number of Doors   11914 non-null  float64\n",
      " 9   Vehicle Size      11914 non-null  object \n",
      " 10  Vehicle Style     11914 non-null  object \n",
      " 11  MPG-H             11914 non-null  int64  \n",
      " 12  MPG-C             11914 non-null  int64  \n",
      " 13  Popularity        11914 non-null  int64  \n",
      " 14  Price             11914 non-null  int64  \n",
      " 15  Age_of_Car        11914 non-null  int64  \n",
      "dtypes: float64(3), int64(6), object(7)\n",
      "memory usage: 1.5+ MB\n"
     ]
    }
   ],
   "source": [
    "\n",
    "cleaned_data = preprocess_data(df)\n",
    "cleaned_data.info()"
   ]
  },
  {
   "cell_type": "code",
   "execution_count": 18,
   "id": "7c8ea12e-fdcc-445e-bc99-34ca6e111c5c",
   "metadata": {},
   "outputs": [
    {
     "data": {
      "text/html": [
       "<div>\n",
       "<style scoped>\n",
       "    .dataframe tbody tr th:only-of-type {\n",
       "        vertical-align: middle;\n",
       "    }\n",
       "\n",
       "    .dataframe tbody tr th {\n",
       "        vertical-align: top;\n",
       "    }\n",
       "\n",
       "    .dataframe thead th {\n",
       "        text-align: right;\n",
       "    }\n",
       "</style>\n",
       "<table border=\"1\" class=\"dataframe\">\n",
       "  <thead>\n",
       "    <tr style=\"text-align: right;\">\n",
       "      <th></th>\n",
       "      <th>Make</th>\n",
       "      <th>Model</th>\n",
       "      <th>Year</th>\n",
       "      <th>Engine Fuel Type</th>\n",
       "      <th>HP</th>\n",
       "      <th>Cylinders</th>\n",
       "      <th>Transmission</th>\n",
       "      <th>Drive Mode</th>\n",
       "      <th>Number of Doors</th>\n",
       "      <th>Vehicle Size</th>\n",
       "      <th>Vehicle Style</th>\n",
       "      <th>MPG-H</th>\n",
       "      <th>MPG-C</th>\n",
       "      <th>Popularity</th>\n",
       "      <th>Price</th>\n",
       "      <th>Age_of_Car</th>\n",
       "    </tr>\n",
       "  </thead>\n",
       "  <tbody>\n",
       "    <tr>\n",
       "      <th>0</th>\n",
       "      <td>BMW</td>\n",
       "      <td>1 Series M</td>\n",
       "      <td>2011</td>\n",
       "      <td>Premium</td>\n",
       "      <td>335.0</td>\n",
       "      <td>6.0</td>\n",
       "      <td>MANUAL</td>\n",
       "      <td>rear wheel drive</td>\n",
       "      <td>2.0</td>\n",
       "      <td>Compact</td>\n",
       "      <td>Coupe</td>\n",
       "      <td>26</td>\n",
       "      <td>19</td>\n",
       "      <td>3916</td>\n",
       "      <td>46135</td>\n",
       "      <td>13</td>\n",
       "    </tr>\n",
       "    <tr>\n",
       "      <th>1</th>\n",
       "      <td>BMW</td>\n",
       "      <td>1 Series</td>\n",
       "      <td>2011</td>\n",
       "      <td>Premium</td>\n",
       "      <td>300.0</td>\n",
       "      <td>6.0</td>\n",
       "      <td>MANUAL</td>\n",
       "      <td>rear wheel drive</td>\n",
       "      <td>2.0</td>\n",
       "      <td>Compact</td>\n",
       "      <td>Convertible</td>\n",
       "      <td>28</td>\n",
       "      <td>19</td>\n",
       "      <td>3916</td>\n",
       "      <td>40650</td>\n",
       "      <td>13</td>\n",
       "    </tr>\n",
       "    <tr>\n",
       "      <th>2</th>\n",
       "      <td>BMW</td>\n",
       "      <td>1 Series</td>\n",
       "      <td>2011</td>\n",
       "      <td>Premium</td>\n",
       "      <td>300.0</td>\n",
       "      <td>6.0</td>\n",
       "      <td>MANUAL</td>\n",
       "      <td>rear wheel drive</td>\n",
       "      <td>2.0</td>\n",
       "      <td>Compact</td>\n",
       "      <td>Coupe</td>\n",
       "      <td>28</td>\n",
       "      <td>20</td>\n",
       "      <td>3916</td>\n",
       "      <td>36350</td>\n",
       "      <td>13</td>\n",
       "    </tr>\n",
       "    <tr>\n",
       "      <th>3</th>\n",
       "      <td>BMW</td>\n",
       "      <td>1 Series</td>\n",
       "      <td>2011</td>\n",
       "      <td>Premium</td>\n",
       "      <td>230.0</td>\n",
       "      <td>6.0</td>\n",
       "      <td>MANUAL</td>\n",
       "      <td>rear wheel drive</td>\n",
       "      <td>2.0</td>\n",
       "      <td>Compact</td>\n",
       "      <td>Coupe</td>\n",
       "      <td>28</td>\n",
       "      <td>18</td>\n",
       "      <td>3916</td>\n",
       "      <td>29450</td>\n",
       "      <td>13</td>\n",
       "    </tr>\n",
       "    <tr>\n",
       "      <th>4</th>\n",
       "      <td>BMW</td>\n",
       "      <td>1 Series</td>\n",
       "      <td>2011</td>\n",
       "      <td>Premium</td>\n",
       "      <td>230.0</td>\n",
       "      <td>6.0</td>\n",
       "      <td>MANUAL</td>\n",
       "      <td>rear wheel drive</td>\n",
       "      <td>2.0</td>\n",
       "      <td>Compact</td>\n",
       "      <td>Convertible</td>\n",
       "      <td>28</td>\n",
       "      <td>18</td>\n",
       "      <td>3916</td>\n",
       "      <td>34500</td>\n",
       "      <td>13</td>\n",
       "    </tr>\n",
       "  </tbody>\n",
       "</table>\n",
       "</div>"
      ],
      "text/plain": [
       "  Make       Model  Year Engine Fuel Type     HP  Cylinders Transmission  \\\n",
       "0  BMW  1 Series M  2011          Premium  335.0        6.0       MANUAL   \n",
       "1  BMW    1 Series  2011          Premium  300.0        6.0       MANUAL   \n",
       "2  BMW    1 Series  2011          Premium  300.0        6.0       MANUAL   \n",
       "3  BMW    1 Series  2011          Premium  230.0        6.0       MANUAL   \n",
       "4  BMW    1 Series  2011          Premium  230.0        6.0       MANUAL   \n",
       "\n",
       "         Drive Mode  Number of Doors Vehicle Size Vehicle Style  MPG-H  MPG-C  \\\n",
       "0  rear wheel drive              2.0      Compact         Coupe     26     19   \n",
       "1  rear wheel drive              2.0      Compact   Convertible     28     19   \n",
       "2  rear wheel drive              2.0      Compact         Coupe     28     20   \n",
       "3  rear wheel drive              2.0      Compact         Coupe     28     18   \n",
       "4  rear wheel drive              2.0      Compact   Convertible     28     18   \n",
       "\n",
       "   Popularity  Price  Age_of_Car  \n",
       "0        3916  46135          13  \n",
       "1        3916  40650          13  \n",
       "2        3916  36350          13  \n",
       "3        3916  29450          13  \n",
       "4        3916  34500          13  "
      ]
     },
     "execution_count": 18,
     "metadata": {},
     "output_type": "execute_result"
    }
   ],
   "source": [
    "cleaned_data.head()"
   ]
  },
  {
   "cell_type": "code",
   "execution_count": 26,
   "id": "373d9dbd-190a-40e5-b693-ca9c695e1851",
   "metadata": {},
   "outputs": [
    {
     "name": "stdout",
     "output_type": "stream",
     "text": [
      "<class 'pandas.core.frame.DataFrame'>\n",
      "RangeIndex: 11914 entries, 0 to 11913\n",
      "Data columns (total 16 columns):\n",
      " #   Column            Non-Null Count  Dtype  \n",
      "---  ------            --------------  -----  \n",
      " 0   Make              11914 non-null  object \n",
      " 1   Model             11914 non-null  object \n",
      " 2   Year              11914 non-null  int64  \n",
      " 3   Engine Fuel Type  11914 non-null  object \n",
      " 4   HP                11914 non-null  float64\n",
      " 5   Cylinders         11914 non-null  float64\n",
      " 6   Transmission      11914 non-null  object \n",
      " 7   Drive Mode        11914 non-null  object \n",
      " 8   Number of Doors   11914 non-null  float64\n",
      " 9   Vehicle Size      11914 non-null  object \n",
      " 10  Vehicle Style     11914 non-null  object \n",
      " 11  MPG-H             11914 non-null  int64  \n",
      " 12  MPG-C             11914 non-null  int64  \n",
      " 13  Popularity        11914 non-null  int64  \n",
      " 14  Price             11914 non-null  int64  \n",
      " 15  Age_of_Car        11914 non-null  int64  \n",
      "dtypes: float64(3), int64(6), object(7)\n",
      "memory usage: 1.5+ MB\n"
     ]
    }
   ],
   "source": [
    "cleaned_data.info()"
   ]
  },
  {
   "cell_type": "code",
   "execution_count": 20,
   "id": "bda9da9c-f52b-47c0-9382-3b550c655134",
   "metadata": {},
   "outputs": [],
   "source": [
    "X = cleaned_data.drop('Price' , axis=1)  # Features\n",
    "y = cleaned_data['Price']  # Target\n",
    "\n",
    "X_train, X_test, y_train, y_test = train_test_split(X, y, test_size=0.2, random_state=42)\n"
   ]
  },
  {
   "cell_type": "code",
   "execution_count": 117,
   "id": "bf7b9922-0bd3-4336-b00e-cdb8b23715df",
   "metadata": {},
   "outputs": [
    {
     "name": "stdout",
     "output_type": "stream",
     "text": [
      "Shape of X_train: (9531, 996)\n",
      "Shape of X_test: (2383, 996)\n",
      "Shape of y_train: (9531,)\n",
      "Shape of y_test: (2383,)\n"
     ]
    }
   ],
   "source": [
    "print(\"Shape of X_train:\", X_train.shape)\n",
    "print(\"Shape of X_test:\", X_test.shape)\n",
    "print(\"Shape of y_train:\", y_train.shape)\n",
    "print(\"Shape of y_test:\", y_test.shape)"
   ]
  },
  {
   "cell_type": "code",
   "execution_count": 27,
   "id": "4f179e74-e048-4e01-8621-a03df6a10dbb",
   "metadata": {},
   "outputs": [],
   "source": [
    "import pandas as pd\n",
    "import joblib\n",
    "from sklearn.preprocessing import StandardScaler, OneHotEncoder\n",
    "from sklearn.compose import ColumnTransformer\n",
    "from sklearn.pipeline import Pipeline\n",
    "\n",
    "def preprocessing_pipeline(df):\n",
    "    categorical_cols = ['Make', 'Model', 'Engine Fuel Type', 'Transmission', 'Drive Mode', 'Vehicle Size', 'Vehicle Style']\n",
    "    \n",
    "    preprocessing = ColumnTransformer(transformers=[\n",
    "        ('ohe', OneHotEncoder(), categorical_cols),  # One-hot encode categorical columns\n",
    "        ('scaler', StandardScaler(), ['Year', 'HP', 'Cylinders', 'Number of Doors', 'MPG-H', 'MPG-C', 'Popularity', 'Age_of_Car'])  # Scale numerical columns\n",
    "    ])\n",
    "    \n",
    "    pipeline = Pipeline(steps=[\n",
    "        ('preprocessing', preprocessing)\n",
    "    ])\n",
    "    \n",
    "    X = df.drop('Price', axis=1)\n",
    "    pipeline.fit(X)\n",
    "    \n",
    "    joblib.dump(pipeline, 'preprocessing_pipeline.joblib')\n",
    "    \n",
    "    return pipeline\n"
   ]
  },
  {
   "cell_type": "code",
   "execution_count": 28,
   "id": "0976c9ce-bd34-4eb3-8b50-74af1461b0c7",
   "metadata": {},
   "outputs": [
    {
     "data": {
      "text/plain": [
       "Pipeline(steps=[('preprocessing',\n",
       "                 ColumnTransformer(transformers=[('ohe', OneHotEncoder(),\n",
       "                                                  ['Make', 'Model',\n",
       "                                                   'Engine Fuel Type',\n",
       "                                                   'Transmission', 'Drive Mode',\n",
       "                                                   'Vehicle Size',\n",
       "                                                   'Vehicle Style']),\n",
       "                                                 ('scaler', StandardScaler(),\n",
       "                                                  ['Year', 'HP', 'Cylinders',\n",
       "                                                   'Number of Doors', 'MPG-H',\n",
       "                                                   'MPG-C', 'Popularity',\n",
       "                                                   'Age_of_Car'])]))])"
      ]
     },
     "execution_count": 28,
     "metadata": {},
     "output_type": "execute_result"
    }
   ],
   "source": [
    "preprocessing_pipeline(cleaned_data)"
   ]
  },
  {
   "cell_type": "code",
   "execution_count": 30,
   "id": "4b969900-168a-4eb9-87f3-4ebb7fe705b3",
   "metadata": {
    "tags": []
   },
   "outputs": [],
   "source": [
    "from sklearn.ensemble import RandomForestRegressor\n",
    "from sklearn.model_selection import train_test_split\n",
    "\n",
    "def rf_model_pipeline(df):\n",
    "    preprocessing = joblib.load('preprocessing_pipeline.joblib')\n",
    "    \n",
    "    X = df.drop('Price', axis=1)\n",
    "    y = df['Price']\n",
    "    \n",
    "    X_train, X_test, y_train, y_test = train_test_split(X, y, test_size=0.2, random_state=42)\n",
    "    \n",
    "    X_train_transformed = preprocessing.transform(X_train)\n",
    "    X_test_transformed = preprocessing.transform(X_test)\n",
    "    \n",
    "    rf_model = RandomForestRegressor(n_estimators=50, random_state=42)\n",
    "    rf_model.fit(X_train_transformed, y_train)\n",
    "    \n",
    "    joblib.dump(rf_model, 'rf_model.joblib')\n",
    "    \n",
    "    y_pred = rf_model.predict(X_test_transformed)\n",
    "    \n",
    "    return y_pred\n",
    "\n"
   ]
  },
  {
   "cell_type": "code",
   "execution_count": 31,
   "id": "99b87219-b0e0-4dde-b815-be9e2fce4fb4",
   "metadata": {},
   "outputs": [],
   "source": [
    "y_pred = rf_model_pipeline(cleaned_data)"
   ]
  },
  {
   "cell_type": "code",
   "execution_count": 32,
   "id": "1450fa7f-10b2-4e3b-85e4-f5d99f1b5ca9",
   "metadata": {},
   "outputs": [],
   "source": [
    "def preprocess_and_predict(new_input_df):\n",
    "    preprocessing = joblib.load('preprocessing_pipeline.joblib')\n",
    "    rf_model = joblib.load('rf_model.joblib')\n",
    "    \n",
    "    new_input_transformed = preprocessing.transform(new_input_df)\n",
    "    \n",
    "    predictions = rf_model.predict(new_input_transformed)\n",
    "    \n",
    "    return predictions\n",
    "\n"
   ]
  },
  {
   "cell_type": "code",
   "execution_count": 33,
   "id": "eb79606a-220f-412e-bd70-78bb80bcfa9e",
   "metadata": {},
   "outputs": [],
   "source": [
    "import pandas as pd\n",
    "\n",
    "new_input_data = {\n",
    "    'Make': ['BMW'],\n",
    "    'Model': ['1 Series'],\n",
    "    'Year': [2012],\n",
    "    'Engine Fuel Type': ['Premium'],\n",
    "    'HP': [320.0],\n",
    "    'Cylinders': [6.0],\n",
    "    'Transmission': ['MANUAL'],\n",
    "    'Drive Mode': ['rear wheel drive'],\n",
    "    'Number of Doors': [2.0],\n",
    "    'Vehicle Size': ['Compact'],\n",
    "    'Vehicle Style': ['Coupe'],\n",
    "    'MPG-H': [30],\n",
    "    'MPG-C': [22],\n",
    "    'Popularity': [3916],\n",
    "    'Age_of_Car': [12]\n",
    "}\n",
    "\n",
    "new_input_df = pd.DataFrame(new_input_data)\n"
   ]
  },
  {
   "cell_type": "code",
   "execution_count": 34,
   "id": "4b953917-9a62-4fa2-9e90-b0ee786c346b",
   "metadata": {},
   "outputs": [
    {
     "name": "stdout",
     "output_type": "stream",
     "text": [
      "Predicted price: [46874.6]\n"
     ]
    }
   ],
   "source": [
    "prediction = preprocess_and_predict(new_input_df)\n",
    "print(\"Predicted price:\", prediction)"
   ]
  },
  {
   "cell_type": "code",
   "execution_count": 103,
   "id": "0a330b5f-b3b8-41d3-8e65-bacafb0538c8",
   "metadata": {},
   "outputs": [
    {
     "data": {
      "text/plain": [
       "['rf_model.joblib']"
      ]
     },
     "execution_count": 103,
     "metadata": {},
     "output_type": "execute_result"
    }
   ],
   "source": [
    "joblib.dump(rf_model, 'rf_model.joblib')"
   ]
  },
  {
   "cell_type": "code",
   "execution_count": null,
   "id": "5d751307-6fa5-49a9-adad-94876e132e83",
   "metadata": {},
   "outputs": [],
   "source": []
  }
 ],
 "metadata": {
  "kernelspec": {
   "display_name": "Python 3 (ipykernel)",
   "language": "python",
   "name": "python3"
  },
  "language_info": {
   "codemirror_mode": {
    "name": "ipython",
    "version": 3
   },
   "file_extension": ".py",
   "mimetype": "text/x-python",
   "name": "python",
   "nbconvert_exporter": "python",
   "pygments_lexer": "ipython3",
   "version": "3.9.16"
  }
 },
 "nbformat": 4,
 "nbformat_minor": 5
}
